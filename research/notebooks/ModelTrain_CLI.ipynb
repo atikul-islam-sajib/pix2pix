{
  "nbformat": 4,
  "nbformat_minor": 0,
  "metadata": {
    "colab": {
      "provenance": [],
      "gpuType": "T4"
    },
    "kernelspec": {
      "name": "python3",
      "display_name": "Python 3"
    },
    "language_info": {
      "name": "python"
    },
    "accelerator": "GPU"
  },
  "cells": [
    {
      "cell_type": "code",
      "execution_count": 1,
      "metadata": {
        "colab": {
          "base_uri": "https://localhost:8080/"
        },
        "id": "0GDByJ3uk7q7",
        "outputId": "3a5fe92e-931f-478e-faca-7ca868236a8c"
      },
      "outputs": [
        {
          "output_type": "stream",
          "name": "stdout",
          "text": [
            "Cloning into 'pix2pix'...\n",
            "remote: Enumerating objects: 2695, done.\u001b[K\n",
            "remote: Counting objects: 100% (220/220), done.\u001b[K\n",
            "remote: Compressing objects: 100% (164/164), done.\u001b[K\n",
            "remote: Total 2695 (delta 63), reused 188 (delta 35), pack-reused 2475\u001b[K\n",
            "Receiving objects: 100% (2695/2695), 270.03 MiB | 16.09 MiB/s, done.\n",
            "Resolving deltas: 100% (192/192), done.\n",
            "Updating files: 100% (2333/2333), done.\n"
          ]
        }
      ],
      "source": [
        "# Clone the repo\n",
        "!git clone https://github.com/atikul-islam-sajib/pix2pix.git"
      ]
    },
    {
      "cell_type": "code",
      "source": [
        "# Change the current directory\n",
        "%cd /content/pix2pix"
      ],
      "metadata": {
        "colab": {
          "base_uri": "https://localhost:8080/"
        },
        "id": "rph8iQgjlIZC",
        "outputId": "b98459c0-241f-4613-db6e-0fe1cf4475fc"
      },
      "execution_count": 4,
      "outputs": [
        {
          "output_type": "stream",
          "name": "stdout",
          "text": [
            "/content/pix2pix\n"
          ]
        }
      ]
    },
    {
      "cell_type": "code",
      "source": [
        "# Connect the GPU\n",
        "import torch\n",
        "device = torch.device(\"cuda\" if torch.cuda.is_available() else \"cpu\")\n",
        "device"
      ],
      "metadata": {
        "colab": {
          "base_uri": "https://localhost:8080/"
        },
        "id": "TbtDKyyEmGis",
        "outputId": "b0effc4e-c676-4453-d827-c1f8c77d177a"
      },
      "execution_count": 5,
      "outputs": [
        {
          "output_type": "execute_result",
          "data": {
            "text/plain": [
              "device(type='cuda')"
            ]
          },
          "metadata": {},
          "execution_count": 5
        }
      ]
    },
    {
      "cell_type": "code",
      "source": [
        "# Run the code - Train\n",
        "\n",
        "!python /content/pix2pix/src/cli.py --dataset /content/city.zip --epochs 200 --lr 0.0002 --beta1 0.5 --lambda_value 100 --device cuda --display True --train"
      ],
      "metadata": {
        "id": "U6Pvd6l2lVki"
      },
      "execution_count": null,
      "outputs": []
    },
    {
      "cell_type": "code",
      "source": [
        "# Run the code - Test\n",
        "!python /content/pix2pix/src/cli.py --samples 20 --device cuda --test"
      ],
      "metadata": {
        "id": "mtLcmUxW3VuJ"
      },
      "execution_count": null,
      "outputs": []
    },
    {
      "cell_type": "code",
      "source": [
        "# To display the test image\n",
        "from IPython.display import Image\n",
        "Image(\"/content/pix2pix/outputs/test_images/test.png\")"
      ],
      "metadata": {
        "id": "5TXKTnZrmttr"
      },
      "execution_count": null,
      "outputs": []
    }
  ]
}